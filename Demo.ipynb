{
 "cells": [
  {
   "cell_type": "markdown",
   "metadata": {},
   "source": [
    "## Example Bellybutton Workflow\n",
    "\n",
    "We recommend running Bellybutton through the command line / terminal. For instructions and further details see https://pypi.org/project/bellybuttonseg/. \n",
    "\n",
    "For users who prefer using a notebook, we provide an example workflow in this format below."
   ]
  },
  {
   "cell_type": "markdown",
   "metadata": {},
   "source": [
    "a) Import relevant functions"
   ]
  },
  {
   "cell_type": "code",
   "execution_count": 5,
   "metadata": {},
   "outputs": [],
   "source": [
    "from bellybuttonseg.createdir import createdir, runBB"
   ]
  },
  {
   "cell_type": "markdown",
   "metadata": {},
   "source": [
    "b) Download an example dataset (1 = Photoelastic Disks, 2 = Honeycomb, 3 = Spacefoam)\n",
    "If file_path is entered as None, a GUI will appear for file selection."
   ]
  },
  {
   "cell_type": "code",
   "execution_count": null,
   "metadata": {},
   "outputs": [],
   "source": [
    "example = 2\n",
    "file_path = None # Use GUI (None) or replace with filepath \n",
    "file_path = createdir(example,file_path)+'/'"
   ]
  },
  {
   "cell_type": "markdown",
   "metadata": {},
   "source": [
    "A folder with example data and parameters has now been downloaded to the above location. Default parameters have been populated in the *base_parameters.txt* file, and they can be changed there directly. These changes will affect all runs using this folder. Alternatively, they can be changed below for a one-time run. For a list and explanation of each changeable parameter, please see https://pypi.org/project/bellybuttonseg/"
   ]
  },
  {
   "cell_type": "markdown",
   "metadata": {},
   "source": [
    "c) Set parameters, train a model, and predict on withheld data."
   ]
  },
  {
   "cell_type": "code",
   "execution_count": 4,
   "metadata": {},
   "outputs": [
    {
     "ename": "KeyError",
     "evalue": "'Parameters'",
     "output_type": "error",
     "traceback": [
      "\u001b[0;31m---------------------------------------------------------------------------\u001b[0m",
      "\u001b[0;31mKeyError\u001b[0m                                  Traceback (most recent call last)",
      "Input \u001b[0;32mIn [4]\u001b[0m, in \u001b[0;36m<cell line: 10>\u001b[0;34m()\u001b[0m\n\u001b[1;32m      6\u001b[0m override_param[\u001b[38;5;124m'\u001b[39m\u001b[38;5;124mtrain_epochs\u001b[39m\u001b[38;5;124m'\u001b[39m] \u001b[38;5;241m=\u001b[39m \u001b[38;5;241m3\u001b[39m\n\u001b[1;32m      8\u001b[0m \u001b[38;5;66;03m# file_path = '' ## can identify an already-trained model for prediction as well\u001b[39;00m\n\u001b[0;32m---> 10\u001b[0m \u001b[43mrunBB\u001b[49m\u001b[43m(\u001b[49m\u001b[43mtrain\u001b[49m\u001b[38;5;241;43m=\u001b[39;49m\u001b[43mdoTraining\u001b[49m\u001b[43m,\u001b[49m\u001b[43m \u001b[49m\u001b[43mpredict\u001b[49m\u001b[38;5;241;43m=\u001b[39;49m\u001b[43mdoPrediction\u001b[49m\u001b[43m,\u001b[49m\u001b[43m \u001b[49m\u001b[43mfile_path\u001b[49m\u001b[38;5;241;43m=\u001b[39;49m\u001b[43mfile_path\u001b[49m\u001b[43m,\u001b[49m\u001b[43m \u001b[49m\u001b[43moverride_param\u001b[49m\u001b[38;5;241;43m=\u001b[39;49m\u001b[43moverride_param\u001b[49m\u001b[43m)\u001b[49m\n",
      "File \u001b[0;32m/Library/Frameworks/Python.framework/Versions/3.10/lib/python3.10/site-packages/bellybuttonseg/createdir.py:29\u001b[0m, in \u001b[0;36mrunBB\u001b[0;34m(train, predict, file_path, override_param)\u001b[0m\n\u001b[1;32m     26\u001b[0m     dt_string \u001b[38;5;241m=\u001b[39m file_path[idx\u001b[38;5;241m+\u001b[39m\u001b[38;5;241m9\u001b[39m:\u001b[38;5;241m-\u001b[39m\u001b[38;5;241m1\u001b[39m]\n\u001b[1;32m     27\u001b[0m     file_path \u001b[38;5;241m=\u001b[39m file_path[:idx\u001b[38;5;241m+\u001b[39m\u001b[38;5;241m1\u001b[39m]\n\u001b[0;32m---> 29\u001b[0m param \u001b[38;5;241m=\u001b[39m \u001b[43mload_parameters\u001b[49m\u001b[43m(\u001b[49m\u001b[43mfile_path\u001b[49m\u001b[38;5;241;43m+\u001b[39;49m\u001b[43mbase_param_name\u001b[49m\u001b[43m,\u001b[49m\u001b[43mparam_types\u001b[49m\u001b[43m)\u001b[49m\n\u001b[1;32m     31\u001b[0m \u001b[38;5;66;03m#Adjust loaded (old) parameters to match any input (new) parameters\u001b[39;00m\n\u001b[1;32m     32\u001b[0m \u001b[38;5;28;01mif\u001b[39;00m \u001b[38;5;129;01mnot\u001b[39;00m override_param \u001b[38;5;129;01mis\u001b[39;00m \u001b[38;5;28;01mNone\u001b[39;00m:\n",
      "File \u001b[0;32m/Library/Frameworks/Python.framework/Versions/3.10/lib/python3.10/site-packages/bellybuttonseg/load_save_helpers.py:59\u001b[0m, in \u001b[0;36mload_parameters\u001b[0;34m(filename, param_types)\u001b[0m\n\u001b[1;32m     56\u001b[0m keys2 \u001b[38;5;241m=\u001b[39m [k\u001b[38;5;241m.\u001b[39mlower() \u001b[38;5;28;01mfor\u001b[39;00m k \u001b[38;5;129;01min\u001b[39;00m keys]\n\u001b[1;32m     58\u001b[0m \u001b[38;5;66;03m# load value from file\u001b[39;00m\n\u001b[0;32m---> 59\u001b[0m \u001b[38;5;28;01mfor\u001b[39;00m key \u001b[38;5;129;01min\u001b[39;00m \u001b[43mconfig\u001b[49m\u001b[43m[\u001b[49m\u001b[38;5;124;43m'\u001b[39;49m\u001b[38;5;124;43mParameters\u001b[39;49m\u001b[38;5;124;43m'\u001b[39;49m\u001b[43m]\u001b[49m: \n\u001b[1;32m     60\u001b[0m     \u001b[38;5;28;01mif\u001b[39;00m key\u001b[38;5;241m.\u001b[39mlower() \u001b[38;5;129;01min\u001b[39;00m keys2:\n\u001b[1;32m     61\u001b[0m         out[keys2\u001b[38;5;241m.\u001b[39mindex(key\u001b[38;5;241m.\u001b[39mlower())]\u001b[38;5;241m=\u001b[39mconfig[\u001b[38;5;124m'\u001b[39m\u001b[38;5;124mParameters\u001b[39m\u001b[38;5;124m'\u001b[39m][key\u001b[38;5;241m.\u001b[39mlower()]\n",
      "File \u001b[0;32m/Library/Frameworks/Python.framework/Versions/3.10/lib/python3.10/configparser.py:964\u001b[0m, in \u001b[0;36mRawConfigParser.__getitem__\u001b[0;34m(self, key)\u001b[0m\n\u001b[1;32m    962\u001b[0m \u001b[38;5;28;01mdef\u001b[39;00m \u001b[38;5;21m__getitem__\u001b[39m(\u001b[38;5;28mself\u001b[39m, key):\n\u001b[1;32m    963\u001b[0m     \u001b[38;5;28;01mif\u001b[39;00m key \u001b[38;5;241m!=\u001b[39m \u001b[38;5;28mself\u001b[39m\u001b[38;5;241m.\u001b[39mdefault_section \u001b[38;5;129;01mand\u001b[39;00m \u001b[38;5;129;01mnot\u001b[39;00m \u001b[38;5;28mself\u001b[39m\u001b[38;5;241m.\u001b[39mhas_section(key):\n\u001b[0;32m--> 964\u001b[0m         \u001b[38;5;28;01mraise\u001b[39;00m \u001b[38;5;167;01mKeyError\u001b[39;00m(key)\n\u001b[1;32m    965\u001b[0m     \u001b[38;5;28;01mreturn\u001b[39;00m \u001b[38;5;28mself\u001b[39m\u001b[38;5;241m.\u001b[39m_proxies[key]\n",
      "\u001b[0;31mKeyError\u001b[0m: 'Parameters'"
     ]
    }
   ],
   "source": [
    "doTraining = True # must be true for untrained model. Will train and predict on train/test images\n",
    "doPrediction = True # evaluate on images in /predict_images/ folder.\n",
    "\n",
    "override_param = {};\n",
    "override_param['fraction'] = 0.3 # use 30% of available training pixels\n",
    "override_param['train_epochs'] = 3\n",
    "\n",
    "# file_path = '' ## can identify an already-trained model for prediction as well\n",
    "\n",
    "runBB(train=doTraining, predict=doPrediction, file_path=file_path, override_param=override_param)"
   ]
  },
  {
   "cell_type": "markdown",
   "metadata": {},
   "source": [
    "Outputs will be saved in a new folder with the name \"outputs_[datestring]\". Segmented images are placed in the /predictions/ folder, and statistical results tabulated in the results.txt file.\n",
    "\n",
    "To create a new folder for a project of your own, run the command below, then enter a name into the [INPUT] box. Then drag and drop images and masks into the appropriate subfolders (train/test/predict), and happy segmentation!"
   ]
  },
  {
   "cell_type": "code",
   "execution_count": null,
   "metadata": {},
   "outputs": [],
   "source": [
    "file_path2 = None # Use GUI (None) or replace with filepath \n",
    "file_path2 = createdir(0,file_path2)"
   ]
  }
 ],
 "metadata": {
  "kernelspec": {
   "display_name": "Python 3 (ipykernel)",
   "language": "python",
   "name": "python3"
  },
  "language_info": {
   "codemirror_mode": {
    "name": "ipython",
    "version": 3
   },
   "file_extension": ".py",
   "mimetype": "text/x-python",
   "name": "python",
   "nbconvert_exporter": "python",
   "pygments_lexer": "ipython3",
   "version": "3.10.3"
  }
 },
 "nbformat": 4,
 "nbformat_minor": 2
}
