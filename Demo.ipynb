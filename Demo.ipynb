{
 "cells": [
  {
   "cell_type": "markdown",
   "metadata": {},
   "source": [
    "## Example Bellybutton Workflow\n",
    "\n",
    "We recommend running Bellybutton through the command line / terminal. For instructions and further details see https://pypi.org/project/bellybuttonseg/. \n",
    "\n",
    "For users who prefer using a notebook, we provide an example workflow in this format below."
   ]
  },
  {
   "cell_type": "markdown",
   "metadata": {},
   "source": [
    "a) Import relevant functions"
   ]
  },
  {
   "cell_type": "code",
   "execution_count": null,
   "metadata": {},
   "outputs": [],
   "source": [
    "from bellybuttonseg.createdir import createdir, runBB"
   ]
  },
  {
   "cell_type": "markdown",
   "metadata": {},
   "source": [
    "b) Download an example dataset (1 = Photoelastic Disks, 2 = Honeycomb, 3 = Spacefoam)\n",
    "If file_path is entered as None, a GUI will appear for file selection."
   ]
  },
  {
   "cell_type": "code",
   "execution_count": null,
   "metadata": {},
   "outputs": [],
   "source": [
    "example = 1\n",
    "file_path = None # Use GUI (None) or replace with filepath \n",
    "file_path = createdir(example,file_path)"
   ]
  },
  {
   "cell_type": "markdown",
   "metadata": {},
   "source": [
    "A folder with example data and parameters has now been downloaded to the above location. Default parameters have been populated in the *base_parameters.txt* file, and they can be changed there directly. These changes will affect all runs using this folder. Alternatively, they can be changed below for a one-time run. For a list and explanation of each changeable parameter, please see https://pypi.org/project/bellybuttonseg/"
   ]
  },
  {
   "cell_type": "markdown",
   "metadata": {},
   "source": [
    "c) Set parameters, train a model, and predict on withheld data."
   ]
  },
  {
   "cell_type": "code",
   "execution_count": null,
   "metadata": {},
   "outputs": [],
   "source": [
    "doTraining = True # must be true for untrained model. Will train and predict on train/test images\n",
    "doPrediction = True # evaluate on images in /predict_images/ folder.\n",
    "\n",
    "override_param = {};\n",
    "override_param['fraction'] = 0.3 # use 30% of available training pixels\n",
    "override_param['train_epochs'] = 3\n",
    "\n",
    "# file_path = '' ## can identify an already-trained model for prediction as well\n",
    "\n",
    "runBB(train=doTraining, predict=doPrediction, file_path=file_path, override_param=override_param)"
   ]
  },
  {
   "cell_type": "markdown",
   "metadata": {},
   "source": [
    "Outputs will be saved in a new folder with the name \"outputs_[datestring]\". Segmented images are placed in the /predictions/ folder, and statistical results tabulated in the results.txt file.\n",
    "\n",
    "To create a new folder for a project of your own, run the command below, then enter a name into the [INPUT] box. Then drag and drop images and masks into the appropriate subfolders (train/test/predict), and happy segmentation!"
   ]
  },
  {
   "cell_type": "code",
   "execution_count": null,
   "metadata": {},
   "outputs": [],
   "source": [
    "file_path2 = None # Use GUI (None) or replace with filepath \n",
    "file_path2 = createdir(0,file_path2)"
   ]
  }
 ],
 "metadata": {
  "kernelspec": {
   "display_name": "Python 3 (ipykernel)",
   "language": "python",
   "name": "python3"
  },
  "language_info": {
   "codemirror_mode": {
    "name": "ipython",
    "version": 3
   },
   "file_extension": ".py",
   "mimetype": "text/x-python",
   "name": "python",
   "nbconvert_exporter": "python",
   "pygments_lexer": "ipython3",
   "version": "3.10.3"
  }
 },
 "nbformat": 4,
 "nbformat_minor": 2
}
